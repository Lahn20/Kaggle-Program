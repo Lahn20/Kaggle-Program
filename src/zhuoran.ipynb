{
 "cells": [
  {
   "cell_type": "code",
   "execution_count": 1,
   "metadata": {},
   "outputs": [],
   "source": [
    "import os\n",
    "if os.getcwd()!='/Users/zhuoranzhang/Desktop/Kaggle/Practice_Costa_Rica':\n",
    "     os.chdir('/Users/zhuoranzhang/Desktop/Kaggle/Practice_Costa_Rica')"
   ]
  },
  {
   "cell_type": "markdown",
   "metadata": {},
   "source": [
    "## Costa Rican Household **Poverty Level** Prediction\n",
    "### Introduction\n",
    "\n",
    ">Many social programs have a hard time making sure the right people are given enough aid. It’s especially tricky when a program focuses on the poorest segment of the population. The world’s poorest typically can’t provide the necessary income and expense records to prove that they qualify.\n",
    ">\n",
    "In Latin America, one popular method uses an algorithm to verify income qualification. It’s called the Proxy Means Test (or PMT). With PMT, agencies use a model that considers a family’s observable household attributes like the material of their walls and ceiling, or the assets found in the home to classify them and predict their level of need.\n",
    ">\n",
    "To improve on PMT, the [IDB (the largest source of development financing for Latin America and the Caribbean)](https://www.iadb.org/en) has turned to the Kaggle community. They believe that new methods beyond traditional econometrics, based on a dataset of Costa Rican household characteristics, might help improve PMT’s performance.\n",
    ">\n",
    "Beyond Costa Rica, many countries face this same problem of inaccurately assessing social need. If Kagglers can generate an improvement, the new algorithm could be implemented in other countries around the world."
   ]
  },
  {
   "cell_type": "markdown",
   "metadata": {},
   "source": [
    "<img src=\"Costarica.jpg\">"
   ]
  },
  {
   "cell_type": "markdown",
   "metadata": {},
   "source": [
    "### Data\n",
    "* File Description\n",
    " * The training set\n",
    " * A sample submission file\n",
    "\n",
    "* Core data field\n",
    " * Id\n",
    " * Target\n",
    " * idhogar\n",
    " * parentesco1\n",
    " \n",
    "* [Others](https://www.kaggle.com/c/costa-rican-household-poverty-prediction/data)"
   ]
  },
  {
   "cell_type": "code",
   "execution_count": null,
   "metadata": {},
   "outputs": [],
   "source": []
  }
 ],
 "metadata": {
  "kernelspec": {
   "display_name": "Python 3",
   "language": "python",
   "name": "python3"
  },
  "language_info": {
   "codemirror_mode": {
    "name": "ipython",
    "version": 3
   },
   "file_extension": ".py",
   "mimetype": "text/x-python",
   "name": "python",
   "nbconvert_exporter": "python",
   "pygments_lexer": "ipython3",
   "version": "3.6.3"
  }
 },
 "nbformat": 4,
 "nbformat_minor": 2
}
