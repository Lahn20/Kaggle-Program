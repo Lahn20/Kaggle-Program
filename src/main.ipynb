{
 "cells": [
  {
   "cell_type": "code",
   "execution_count": 2,
   "metadata": {},
   "outputs": [],
   "source": [
    "import os\n",
    "from IPython.display import HTML\n",
    "os.getcwd()\n",
    "os.chdir('./src')\n",
    "\n",
    "#we probably need a dynamic function to set up working dir\n",
    "#os.chdir('/Users/zhuoranzhang/Desktop/Kaggle/Practice_Costa_Rica')"
   ]
  },
  {
   "cell_type": "markdown",
   "metadata": {},
   "source": [
    "## Costa Rican Household **Poverty Level** Prediction\n",
    "### 1. Introduction\n",
    "\n",
    ">Many social programs have a hard time making sure the right people are given enough aid. It’s especially tricky when a program focuses on the poorest segment of the population. The world’s poorest typically can’t provide the necessary income and expense records to prove that they qualify.\n",
    ">\n",
    "In Latin America, one popular method uses an algorithm to verify income qualification. It’s called the Proxy Means Test (or PMT). With PMT, agencies use a model that considers a family’s observable household attributes like the material of their walls and ceiling, or the assets found in the home to classify them and predict their level of need.\n",
    ">\n",
    "To improve on PMT, the [IDB (the largest source of development financing for Latin America and the Caribbean)](https://www.iadb.org/en) has turned to the Kaggle community. They believe that new methods beyond traditional econometrics, based on a dataset of Costa Rican household characteristics, might help improve PMT’s performance.\n",
    ">\n",
    "Beyond Costa Rica, many countries face this same problem of inaccurately assessing social need. If Kagglers can generate an improvement, the new algorithm could be implemented in other countries around the world."
   ]
  },
  {
   "cell_type": "markdown",
   "metadata": {},
   "source": [
    "<img src=\"../image/Costarica.jpg\">"
   ]
  },
  {
   "cell_type": "markdown",
   "metadata": {},
   "source": [
    "<img src=\"../image/c_flag.jpg\">"
   ]
  },
  {
   "cell_type": "markdown",
   "metadata": {},
   "source": [
    "<img src=\"../image/costa.jpg\">"
   ]
  },
  {
   "cell_type": "markdown",
   "metadata": {},
   "source": [
    "#### Costa Rica Video "
   ]
  },
  {
   "cell_type": "markdown",
   "metadata": {},
   "source": [
    ">using python html api"
   ]
  },
  {
   "cell_type": "code",
   "execution_count": 18,
   "metadata": {
    "scrolled": true
   },
   "outputs": [
    {
     "data": {
      "text/html": [
       "<iframe width=\"560\" height=\"315\" src=\"https://www.youtube.com/embed/MmUN3I7ZUSE?rel=0&amp;controls=0&amp;showinfo=0\" frameborder=\"0\" allowfullscreen></iframe>"
      ],
      "text/plain": [
       "<IPython.core.display.HTML object>"
      ]
     },
     "execution_count": 18,
     "metadata": {},
     "output_type": "execute_result"
    }
   ],
   "source": [
    "HTML('<iframe width=\"560\" height=\"315\" src=\"https://www.youtube.com/embed/MmUN3I7ZUSE?rel=0&amp;controls=0&amp;showinfo=0\" frameborder=\"0\" allowfullscreen></iframe>')"
   ]
  },
  {
   "cell_type": "markdown",
   "metadata": {},
   "source": [
    "### Data\n",
    "* File Description\n",
    " * The training set\n",
    " * A sample submission file\n",
    "\n",
    "* Core data field\n",
    " * Id\n",
    " * Target\n",
    " * idhogar\n",
    " * parentesco1\n",
    " \n",
    "* [Others](https://www.kaggle.com/c/costa-rican-household-poverty-prediction/data)"
   ]
  },
  {
   "cell_type": "markdown",
   "metadata": {},
   "source": [
    "### 2. EDA"
   ]
  },
  {
   "cell_type": "code",
   "execution_count": 4,
   "metadata": {},
   "outputs": [],
   "source": [
    "import numpy as np\n",
    "import pandas as pd\n",
    "\n",
    "import plotly.plotly as py\n",
    "import plotly.graph_objs as go\n",
    "\n",
    "#load train data into data frame\n",
    "pd_train_data=pd.read_csv('../data/train.csv')"
   ]
  },
  {
   "cell_type": "markdown",
   "metadata": {},
   "source": [
    "Use info to display the basic infomartion of data frame. Here we can see there 143 columns, 138 of them are numeric."
   ]
  },
  {
   "cell_type": "code",
   "execution_count": 5,
   "metadata": {},
   "outputs": [
    {
     "name": "stdout",
     "output_type": "stream",
     "text": [
      "<class 'pandas.core.frame.DataFrame'>\nRangeIndex: 9557 entries, 0 to 9556\nColumns: 143 entries, Id to Target\ndtypes: float64(8), int64(130), object(5)\nmemory usage: 10.4+ MB\n"
     ]
    }
   ],
   "source": [
    "\n",
    "\n",
    "pd_train_data.info()"
   ]
  },
  {
   "cell_type": "markdown",
   "metadata": {},
   "source": [
    "**Below is column map**"
   ]
  },
  {
   "cell_type": "code",
   "execution_count": 10,
   "metadata": {},
   "outputs": [
    {
     "ename": "SyntaxError",
     "evalue": "invalid syntax (<ipython-input-10-157a32041727>, line 1)",
     "traceback": [
      "\u001b[0;36m  File \u001b[0;32m\"<ipython-input-10-157a32041727>\"\u001b[0;36m, line \u001b[0;32m1\u001b[0m\n\u001b[0;31m    v2a1, Monthly rent payment\u001b[0m\n\u001b[0m                     ^\u001b[0m\n\u001b[0;31mSyntaxError\u001b[0m\u001b[0;31m:\u001b[0m invalid syntax\n"
     ],
     "output_type": "error"
    }
   ],
   "source": [
    "v2a1, Monthly rent payment\n",
    "hacdor, =1 Overcrowding by bedrooms\n",
    "rooms,  number of all rooms in the house\n",
    "hacapo, =1 Overcrowding by rooms\n",
    "v14a, =1 has bathroom in the household\n",
    "refrig, =1 if the household has refrigerator\n",
    "v18q, owns a tablet\n",
    "v18q1, number of tablets household owns\n",
    "r4h1, Males younger than 12 years of aged\n",
    "r4h2, Males 12 years of age and older\n",
    "r4h3, Total males in the household\n",
    "r4m1, Females younger than 12 years of age\n",
    "r4m2, Females 12 years of age and older\n",
    "r4m3, Total females in the household\n",
    "r4t1, persons younger than 12 years of age\n",
    "r4t2, persons 12 years of age and older\n",
    "r4t3, Total persons in the household\n",
    "tamhog, size of the household\n",
    "tamviv, number of persons living in the household\n",
    "escolari, years of schooling\n",
    "rez_esc, Years behind in school\n",
    "hhsize, household size\n",
    "paredblolad, =1 if predominant material on the outside wall is block or brick\n",
    "paredzocalo, \"=1 if predominant material on the outside wall is socket (wood,  zinc or absbesto\"\n",
    "paredpreb, =1 if predominant material on the outside wall is prefabricated or cement\n",
    "pareddes, =1 if predominant material on the outside wall is waste material\n",
    "paredmad, =1 if predominant material on the outside wall is wood\n",
    "paredzinc, =1 if predominant material on the outside wall is zink\n",
    "paredfibras, =1 if predominant material on the outside wall is natural fibers\n",
    "paredother, =1 if predominant material on the outside wall is other\n",
    "pisomoscer, \"=1 if predominant material on the floor is mosaic,  ceramic,  terrazo\"\n",
    "pisocemento, =1 if predominant material on the floor is cement\n",
    "pisoother, =1 if predominant material on the floor is other\n",
    "pisonatur, =1 if predominant material on the floor is  natural material\n",
    "pisonotiene, =1 if no floor at the household\n",
    "pisomadera, =1 if predominant material on the floor is wood\n",
    "techozinc, =1 if predominant material on the roof is metal foil or zink\n",
    "techoentrepiso, \"=1 if predominant material on the roof is fiber cement,  mezzanine \"\n",
    "techocane, =1 if predominant material on the roof is natural fibers\n",
    "techootro, =1 if predominant material on the roof is other\n",
    "cielorazo, =1 if the house has ceiling\n",
    "abastaguadentro, =1 if water provision inside the dwelling\n",
    "abastaguafuera, =1 if water provision outside the dwelling\n",
    "abastaguano, =1 if no water provision\n",
    "public, \"=1 electricity from CNFL,  ICE,  ESPH/JASEC\"\n",
    "planpri, =1 electricity from private plant\n",
    "noelec, =1 no electricity in the dwelling\n",
    "coopele, =1 electricity from cooperative\n",
    "sanitario1, =1 no toilet in the dwelling\n",
    "sanitario2, =1 toilet connected to sewer or cesspool\n",
    "sanitario3, =1 toilet connected to  septic tank\n",
    "sanitario5, =1 toilet connected to black hole or letrine\n",
    "sanitario6, =1 toilet connected to other system\n",
    "energcocinar1, =1 no main source of energy used for cooking (no kitchen)\n",
    "energcocinar2, =1 main source of energy used for cooking electricity\n",
    "energcocinar3, =1 main source of energy used for cooking gas\n",
    "energcocinar4, =1 main source of energy used for cooking wood charcoal\n",
    "elimbasu1, =1 if rubbish disposal mainly by tanker truck\n",
    "elimbasu2, =1 if rubbish disposal mainly by botan hollow or buried\n",
    "elimbasu3, =1 if rubbish disposal mainly by burning\n",
    "elimbasu4, =1 if rubbish disposal mainly by throwing in an unoccupied space\n",
    "elimbasu5, \"=1 if rubbish disposal mainly by throwing in river,  creek or sea\"\n",
    "elimbasu6, =1 if rubbish disposal mainly other\n",
    "epared1, =1 if walls are bad\n",
    "epared2, =1 if walls are regular\n",
    "epared3, =1 if walls are good\n",
    "etecho1, =1 if roof are bad\n",
    "etecho2, =1 if roof are regular\n",
    "etecho3, =1 if roof are good\n",
    "eviv1, =1 if floor are bad\n",
    "eviv2, =1 if floor are regular\n",
    "eviv3, =1 if floor are good\n",
    "dis, =1 if disable person\n",
    "male, =1 if male\n",
    "female, =1 if female\n",
    "estadocivil1, =1 if less than 10 years old\n",
    "estadocivil2, =1 if free or coupled uunion\n",
    "estadocivil3, =1 if married\n",
    "estadocivil4, =1 if divorced\n",
    "estadocivil5, =1 if separated\n",
    "estadocivil6, =1 if widow/er\n",
    "estadocivil7, =1 if single\n",
    "parentesco1, =1 if household head\n",
    "parentesco2, =1 if spouse/partner\n",
    "parentesco3, =1 if son/doughter\n",
    "parentesco4, =1 if stepson/doughter\n",
    "parentesco5, =1 if son/doughter in law\n",
    "parentesco6, =1 if grandson/doughter\n",
    "parentesco7, =1 if mother/father\n",
    "parentesco8, =1 if father/mother in law\n",
    "parentesco9, =1 if brother/sister\n",
    "parentesco10, =1 if brother/sister in law\n",
    "parentesco11, =1 if other family member\n",
    "parentesco12, =1 if other non family member\n",
    "idhogar, Household level identifier\n",
    "hogar_nin, Number of children 0 to 19 in household\n",
    "hogar_adul, Number of adults in household\n",
    "hogar_mayor, # of individuals 65+ in the household\n",
    "hogar_total, # of total individuals in the household\n",
    "dependency, Dependency rate, calculated = (number of members of the household younger than 19 or older than 64)/(number of member of household between 19 and 64)\n",
    "edjefe, years of education of male head of household, based on the interaction of escolari (years of education), head of household and gender, yes=1 and no=0\n",
    "edjefa, years of education of female head of household, based on the interaction of escolari (years of education), head of household and gender, yes=1 and no=0\n",
    "meaneduc,average years of education for adults (18+)\n",
    "instlevel1, =1 no level of education\n",
    "instlevel2, =1 incomplete primary\n",
    "instlevel3, =1 complete primary\n",
    "instlevel4, =1 incomplete academic secondary level\n",
    "instlevel5, =1 complete academic secondary level\n",
    "instlevel6, =1 incomplete technical secondary level\n",
    "instlevel7, =1 complete technical secondary level\n",
    "instlevel8, =1 undergraduate and higher education\n",
    "instlevel9, =1 postgraduate higher education\n",
    "bedrooms, number of bedrooms\n",
    "overcrowding, # persons per room\n",
    "tipovivi1, =1 own and fully paid house\n",
    "tipovivi2, \"=1 own,  paying in installments\"\n",
    "tipovivi3, =1 rented\n",
    "tipovivi4, =1 precarious\n",
    "tipovivi5, \"=1 other(assigned,  borrowed)\"\n",
    "computer, =1 if the household has notebook or desktop computer\n",
    "television, =1 if the household has TV\n",
    "mobilephone, =1 if mobile phone\n",
    "qmobilephone, # of mobile phones\n",
    "lugar1, =1 region Central\n",
    "lugar2, =1 region Chorotega\n",
    "lugar3, =1 region PacÃƒÂ­fico central\n",
    "lugar4, =1 region Brunca\n",
    "lugar5, =1 region Huetar AtlÃƒÂ¡ntica\n",
    "lugar6, =1 region Huetar Norte\n",
    "area1, =1 zona urbana\n",
    "area2, =2 zona rural\n",
    "age, Age in years\n",
    "SQBescolari, escolari squared\n",
    "SQBage, age squared\n",
    "SQBhogar_total, hogar_total squared\n",
    "SQBedjefe, edjefe squared\n",
    "SQBhogar_nin, hogar_nin squared\n",
    "SQBovercrowding, overcrowding squared\n",
    "SQBdependency, dependency squared\n",
    "SQBmeaned, square of the mean years of education of adults (>=18) in the household\n",
    "agesq, Age squared"
   ]
  },
  {
   "cell_type": "markdown",
   "metadata": {},
   "source": [
    "#### 2.1 Using Plotly for Pie Chart"
   ]
  },
  {
   "cell_type": "code",
   "execution_count": 7,
   "metadata": {
    "collapsed": true
   },
   "outputs": [
    {
     "data": {
      "text/html": [
       "<iframe id=\"igraph\" scrolling=\"no\" style=\"border:none;\" seamless=\"seamless\" src=\"https://plot.ly/~andywan2012/3.embed\" height=\"525px\" width=\"100%\"></iframe>"
      ],
      "text/plain": [
       "<iframe id=\"igraph\" scrolling=\"no\" style=\"border:none;\" seamless=\"seamless\" src=\"https://plot.ly/~andywan2012/3.embed\" height=\"525px\" width=\"100%\"></iframe>"
      ]
     },
     "execution_count": 7,
     "metadata": {},
     "output_type": "execute_result"
    }
   ],
   "source": [
    "\n",
    "\n",
    "#set up Poverty Level Dictionay\n",
    "dict_poverty_level={1:'Extreme Poverty ',2:'Moderate poverty ',3:'Vulnerable Households ',4:'Non Vulnerable Households'}\n",
    "#group by Traget count\n",
    "series_poverty_level=pd_train_data.groupby(['Target']).size()\n",
    "\n",
    "labels=[]\n",
    "values=[]\n",
    "for index,value in series_poverty_level.items():\n",
    "    labels.append(dict_poverty_level[index])\n",
    "    values.append(value)\n",
    "\n",
    "trace = go.Pie(labels=labels, values=values,name='Poverty LeveL Percentage',textinfo='label+percent')\n",
    "py.iplot([trace], filename='poverty_pie_chart')\n",
    "    "
   ]
  },
  {
   "cell_type": "markdown",
   "metadata": {},
   "source": [
    "#### 2.2 Matplotlib For HeatMap"
   ]
  },
  {
   "cell_type": "code",
   "execution_count": 9,
   "metadata": {},
   "outputs": [
    {
     "data": {
      "text/plain": [
       "['Id',\n 'v2a1',\n 'hacdor',\n 'rooms',\n 'hacapo',\n 'v14a',\n 'refrig',\n 'v18q',\n 'v18q1',\n 'r4h1',\n 'r4h2',\n 'r4h3',\n 'r4m1',\n 'r4m2',\n 'r4m3',\n 'r4t1',\n 'r4t2',\n 'r4t3',\n 'tamhog',\n 'tamviv',\n 'escolari',\n 'rez_esc',\n 'hhsize',\n 'paredblolad',\n 'paredzocalo',\n 'paredpreb',\n 'pareddes',\n 'paredmad',\n 'paredzinc',\n 'paredfibras',\n 'paredother',\n 'pisomoscer',\n 'pisocemento',\n 'pisoother',\n 'pisonatur',\n 'pisonotiene',\n 'pisomadera',\n 'techozinc',\n 'techoentrepiso',\n 'techocane',\n 'techootro',\n 'cielorazo',\n 'abastaguadentro',\n 'abastaguafuera',\n 'abastaguano',\n 'public',\n 'planpri',\n 'noelec',\n 'coopele',\n 'sanitario1',\n 'sanitario2',\n 'sanitario3',\n 'sanitario5',\n 'sanitario6',\n 'energcocinar1',\n 'energcocinar2',\n 'energcocinar3',\n 'energcocinar4',\n 'elimbasu1',\n 'elimbasu2',\n 'elimbasu3',\n 'elimbasu4',\n 'elimbasu5',\n 'elimbasu6',\n 'epared1',\n 'epared2',\n 'epared3',\n 'etecho1',\n 'etecho2',\n 'etecho3',\n 'eviv1',\n 'eviv2',\n 'eviv3',\n 'dis',\n 'male',\n 'female',\n 'estadocivil1',\n 'estadocivil2',\n 'estadocivil3',\n 'estadocivil4',\n 'estadocivil5',\n 'estadocivil6',\n 'estadocivil7',\n 'parentesco1',\n 'parentesco2',\n 'parentesco3',\n 'parentesco4',\n 'parentesco5',\n 'parentesco6',\n 'parentesco7',\n 'parentesco8',\n 'parentesco9',\n 'parentesco10',\n 'parentesco11',\n 'parentesco12',\n 'idhogar',\n 'hogar_nin',\n 'hogar_adul',\n 'hogar_mayor',\n 'hogar_total',\n 'dependency',\n 'edjefe',\n 'edjefa',\n 'meaneduc',\n 'instlevel1',\n 'instlevel2',\n 'instlevel3',\n 'instlevel4',\n 'instlevel5',\n 'instlevel6',\n 'instlevel7',\n 'instlevel8',\n 'instlevel9',\n 'bedrooms',\n 'overcrowding',\n 'tipovivi1',\n 'tipovivi2',\n 'tipovivi3',\n 'tipovivi4',\n 'tipovivi5',\n 'computer',\n 'television',\n 'mobilephone',\n 'qmobilephone',\n 'lugar1',\n 'lugar2',\n 'lugar3',\n 'lugar4',\n 'lugar5',\n 'lugar6',\n 'area1',\n 'area2',\n 'age',\n 'SQBescolari',\n 'SQBage',\n 'SQBhogar_total',\n 'SQBedjefe',\n 'SQBhogar_nin',\n 'SQBovercrowding',\n 'SQBdependency',\n 'SQBmeaned',\n 'agesq',\n 'Target']"
      ]
     },
     "execution_count": 9,
     "metadata": {},
     "output_type": "execute_result"
    }
   ],
   "source": [
    "list(pd_train_data.columns.values)"
   ]
  },
  {
   "cell_type": "code",
   "execution_count": null,
   "metadata": {},
   "outputs": [],
   "source": []
  }
 ],
 "metadata": {
  "kernelspec": {
   "display_name": "Python 3",
   "language": "python",
   "name": "python3"
  },
  "language_info": {
   "codemirror_mode": {
    "name": "ipython",
    "version": 3
   },
   "file_extension": ".py",
   "mimetype": "text/x-python",
   "name": "python",
   "nbconvert_exporter": "python",
   "pygments_lexer": "ipython3",
   "version": "3.7.0"
  }
 },
 "nbformat": 4,
 "nbformat_minor": 2
}
